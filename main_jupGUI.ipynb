{
 "cells": [
  {
   "cell_type": "code",
   "execution_count": 1,
   "metadata": {},
   "outputs": [
    {
     "name": "stdout",
     "output_type": "stream",
     "text": [
      "StyleGAN2: Optimized CUDA op FusedLeakyReLU not available, using native PyTorch fallback.\n",
      "StyleGAN2: Optimized CUDA op UpFirDn2d not available, using native PyTorch fallback.\n"
     ]
    }
   ],
   "source": [
    "import sys\n",
    "import os\n",
    "import numpy as np\n",
    "import pandas as pd\n",
    "import torch\n",
    "from PIL import Image\n",
    "\n",
    "import ipywidgets as widgets\n",
    "from io import BytesIO\n",
    "\n",
    "from ganpfinder import GANPfinder\n",
    "from jupyterGUI import GUIses"
   ]
  },
  {
   "cell_type": "markdown",
   "metadata": {},
   "source": [
    "### Description:\n",
    "\n",
    "Possible datasets: ffhq, car, cat, church, horse, bedrooms, kitchen, places\n",
    "\n",
    "---"
   ]
  },
  {
   "cell_type": "code",
   "execution_count": 2,
   "metadata": {},
   "outputs": [
    {
     "name": "stdout",
     "output_type": "stream",
     "text": [
      "Device used: cpu\n"
     ]
    }
   ],
   "source": [
    "DEVICE = \"cpu\"\n",
    "if torch.cuda.is_available():\n",
    "    DEVICE = \"cuda:0\"\n",
    "\n",
    "print(\"Device used:\", DEVICE)"
   ]
  },
  {
   "cell_type": "code",
   "execution_count": 3,
   "metadata": {
    "scrolled": false
   },
   "outputs": [
    {
     "data": {
      "application/vnd.jupyter.widget-view+json": {
       "model_id": "c3a980b98e9f4fc0a6f61b58eb541381",
       "version_major": 2,
       "version_minor": 0
      },
      "text/plain": [
       "VBox(children=(HBox(children=(VBox(children=(Label(value='Image:'), Image(value=b'\\x89PNG\\r\\n\\x1a\\n\\x00\\x00\\x0…"
      ]
     },
     "metadata": {},
     "output_type": "display_data"
    },
    {
     "name": "stdout",
     "output_type": "stream",
     "text": [
      "+ Updating strength parameter\t   DONE in 0 min. 0.00 sec.\n",
      "+ Updating image\t   DONE in 0 min. 7.47 sec.\n",
      "+ Updating GP\t   DONE in 0 min. 2.22 sec.\n",
      "+ Updating preferred image\t   DONE in 0 min. 7.12 sec.\n",
      "+ Getting next query\t   DONE in 0 min. 0.00 sec.\n",
      "+ Updating strength parameter\t   DONE in 0 min. 0.00 sec.\n",
      "+ Updating image\t   DONE in 0 min. 7.30 sec.\n",
      "+ Updating strength parameter\t   DONE in 0 min. 0.00 sec.\n",
      "+ Updating image\t   DONE in 0 min. 7.28 sec.\n"
     ]
    }
   ],
   "source": [
    "gpf = GANPfinder(class_name=\"car\",\n",
    "                 gan_sample_seed=0,\n",
    "                 n_comp_in_use=10,\n",
    "                 strength_left_bound=-10,\n",
    "                 strength_right_bound=10,\n",
    "                 ppbo_max_iter_fMAP_estimation=5000,\n",
    "                 device=DEVICE)\n",
    "guises = GUIses(gpf)\n",
    "guises.run()"
   ]
  },
  {
   "cell_type": "code",
   "execution_count": null,
   "metadata": {},
   "outputs": [],
   "source": [
    "# CONTINUE"
   ]
  },
  {
   "cell_type": "markdown",
   "metadata": {},
   "source": [
    "---"
   ]
  }
 ],
 "metadata": {
  "kernelspec": {
   "display_name": "Python 3",
   "language": "python",
   "name": "python3"
  },
  "language_info": {
   "codemirror_mode": {
    "name": "ipython",
    "version": 3
   },
   "file_extension": ".py",
   "mimetype": "text/x-python",
   "name": "python",
   "nbconvert_exporter": "python",
   "pygments_lexer": "ipython3",
   "version": "3.7.7"
  }
 },
 "nbformat": 4,
 "nbformat_minor": 4
}
