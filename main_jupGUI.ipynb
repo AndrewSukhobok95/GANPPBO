{
 "cells": [
  {
   "cell_type": "code",
   "execution_count": 1,
   "metadata": {},
   "outputs": [
    {
     "name": "stdout",
     "output_type": "stream",
     "text": [
      "StyleGAN2: Optimized CUDA op FusedLeakyReLU not available, using native PyTorch fallback.\n",
      "StyleGAN2: Optimized CUDA op UpFirDn2d not available, using native PyTorch fallback.\n"
     ]
    }
   ],
   "source": [
    "import sys\n",
    "import os\n",
    "import numpy as np\n",
    "import pandas as pd\n",
    "import torch\n",
    "from PIL import Image\n",
    "\n",
    "import ipywidgets as widgets\n",
    "from io import BytesIO\n",
    "\n",
    "from ganpreffinder import GANPrefFinder\n",
    "from jupyterGUI import GUIses\n",
    "from jupyterComponentsExprGUI import GUICompExprSes"
   ]
  },
  {
   "cell_type": "markdown",
   "metadata": {},
   "source": [
    "### Description:\n",
    "\n",
    "Possible datasets: ffhq, car, cat, church, horse, bedrooms, kitchen, places\n",
    "\n",
    "---"
   ]
  },
  {
   "cell_type": "code",
   "execution_count": 2,
   "metadata": {},
   "outputs": [
    {
     "name": "stdout",
     "output_type": "stream",
     "text": [
      "Device used: cpu\n"
     ]
    }
   ],
   "source": [
    "DEVICE = \"cpu\"\n",
    "if torch.cuda.is_available():\n",
    "    DEVICE = \"cuda:0\"\n",
    "\n",
    "print(\"Device used:\", DEVICE)"
   ]
  },
  {
   "cell_type": "code",
   "execution_count": 3,
   "metadata": {},
   "outputs": [],
   "source": [
    "# (idx, start, end, strength, invert)\n",
    "# 'Redness':          (22,  9, 11,   -8, False),\n",
    "# 'Horizontal flip':  ( 0,  0,  5,  2.0, True),\n",
    "# 'Add grass':        (41,  9, 11,  -18, False),\n",
    "# 'Blocky shape':     (16,  3,  6,   25, False),\n",
    "\n",
    "component_layers_dict = {\n",
    "    0: (0, 5),\n",
    "    16: (3, 6),\n",
    "    22: (9, 11),\n",
    "    41: (9, 11)\n",
    "}\n",
    "component_indices_to_use = [0,1,3,4,6,8]"
   ]
  },
  {
   "cell_type": "code",
   "execution_count": 4,
   "metadata": {},
   "outputs": [],
   "source": [
    "gpf = GANPrefFinder(class_name           = \"car\",\n",
    "                    gan_sample_seed      = 0,\n",
    "                    n_comp_in_use        = None,\n",
    "                    comp_to_use          = component_indices_to_use,\n",
    "                    # comp_layers_dict   = component_layers_dict,\n",
    "                    adaptive_components  = component_indices_to_use,\n",
    "                    strength_left_bound  = -10,\n",
    "                    strength_right_bound = 10,\n",
    "                    acquisition_strategy = 'EI-EXT',\n",
    "                    device=DEVICE)"
   ]
  },
  {
   "cell_type": "code",
   "execution_count": 5,
   "metadata": {
    "scrolled": false
   },
   "outputs": [],
   "source": [
    "# gui_comp_ses = GUICompExprSes(gpf)\n",
    "# gui_comp_ses.run()"
   ]
  },
  {
   "cell_type": "code",
   "execution_count": 6,
   "metadata": {
    "scrolled": false
   },
   "outputs": [
    {
     "data": {
      "application/vnd.jupyter.widget-view+json": {
       "model_id": "87d2e4a628294d6f9aebd48e54dbdaec",
       "version_major": 2,
       "version_minor": 0
      },
      "text/plain": [
       "VBox(children=(HBox(children=(VBox(children=(Label(value='Image:'), Image(value=b'\\x89PNG\\r\\n\\x1a\\n\\x00\\x00\\x0…"
      ]
     },
     "metadata": {},
     "output_type": "display_data"
    }
   ],
   "source": [
    "guises = GUIses(gpf)\n",
    "guises.run()"
   ]
  },
  {
   "cell_type": "code",
   "execution_count": 7,
   "metadata": {},
   "outputs": [],
   "source": [
    "# CONTINUE"
   ]
  },
  {
   "cell_type": "markdown",
   "metadata": {},
   "source": [
    "---"
   ]
  }
 ],
 "metadata": {
  "kernelspec": {
   "display_name": "Python 3",
   "language": "python",
   "name": "python3"
  },
  "language_info": {
   "codemirror_mode": {
    "name": "ipython",
    "version": 3
   },
   "file_extension": ".py",
   "mimetype": "text/x-python",
   "name": "python",
   "nbconvert_exporter": "python",
   "pygments_lexer": "ipython3",
   "version": "3.7.7"
  }
 },
 "nbformat": 4,
 "nbformat_minor": 4
}
